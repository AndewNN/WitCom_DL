{
 "cells": [
  {
   "cell_type": "code",
   "execution_count": 50,
   "metadata": {},
   "outputs": [],
   "source": [
    "import numpy as np\n",
    "import pandas as pd\n",
    "import os\n",
    "import cv2\n",
    "\n",
    "import torch\n",
    "import torch.nn as nn\n",
    "import torch.nn.functional as F\n",
    "from torch.utils.data import Dataset, random_split, DataLoader\n",
    "\n",
    "from torchvision import datasets, transforms, models\n",
    "from torchvision.models import efficientnet_b0, efficientnet_v2_s\n",
    "from torchvision.models import EfficientNet_B0_Weights, EfficientNet_V2_S_Weights\n",
    "import torchvision.transforms as transforms\n",
    "from torchinfo import summary\n",
    "from torch.utils.data import Dataset, random_split, DataLoader\n",
    "from torchvision.utils import save_image\n",
    "from tqdm import tqdm\n",
    "\n",
    "from matplotlib import pyplot as plt\n",
    "import seaborn as sns\n",
    "from sklearn.metrics import confusion_matrix"
   ]
  },
  {
   "cell_type": "code",
   "execution_count": null,
   "metadata": {},
   "outputs": [
    {
     "name": "stdout",
     "output_type": "stream",
     "text": [
      "cuda\n"
     ]
    }
   ],
   "source": [
    "device = torch.device(\"cuda\" if torch.cuda.is_available() else \"cpu\")\n",
    "print(device)"
   ]
  },
  {
   "cell_type": "code",
   "execution_count": 38,
   "metadata": {},
   "outputs": [],
   "source": [
    "BATCH_SIZE = 512\n",
    "\n",
    "mean, std = (0.5,), (0.5,)\n",
    "\n",
    "transform = transforms.Compose([transforms.ToTensor(),\n",
    "                                transforms.Normalize(mean, std)])\n",
    "\n",
    "trainset = datasets.MNIST('../data/MNIST/', download=True, train=True, transform=transform)\n",
    "trainloader = torch.utils.data.DataLoader(trainset, batch_size=BATCH_SIZE, shuffle=True)\n",
    "\n",
    "testset = datasets.MNIST('../data/MNIST/', download=True, train=False, transform=transform)\n",
    "testloader = torch.utils.data.DataLoader(testset, batch_size=BATCH_SIZE, shuffle=False)"
   ]
  },
  {
   "cell_type": "code",
   "execution_count": 39,
   "metadata": {},
   "outputs": [],
   "source": [
    "class PredictionHead(nn.Module):\n",
    "    def __init__(self, feature_dims):\n",
    "        super(PredictionHead, self).__init__()\n",
    "        self.activate = nn.ReLU()\n",
    "        self.dropout = nn.Dropout(0.2)\n",
    "\n",
    "        self.fc = nn.Sequential()\n",
    "        for i in range(len(feature_dims)-1):\n",
    "            # self.fc.add_module(f'drop_{i}', self.dropout)\n",
    "            self.fc.add_module(f'fc_{i}', nn.Linear(feature_dims[i], feature_dims[i+1]))\n",
    "            if i != len(feature_dims)-2:\n",
    "                self.fc.add_module(f'a_{i}', self.activate)\n",
    "\n",
    "    def forward(self, x):\n",
    "        x = self.fc(x)\n",
    "\n",
    "        return x"
   ]
  },
  {
   "cell_type": "code",
   "execution_count": 40,
   "metadata": {},
   "outputs": [],
   "source": [
    "def new_custom_effb0(hidden_features):\n",
    "    model = efficientnet_b0(weights=EfficientNet_B0_Weights.IMAGENET1K_V1)\n",
    "    feature = [1280]\n",
    "    feature.extend(hidden_features)\n",
    "    model.classifier = PredictionHead(feature).cuda()\n",
    "\n",
    "    new_conv_1 = nn.Conv2d(1, 32, kernel_size=(3, 3), stride=(2, 2), padding=(1, 1), bias=False)\n",
    "    new_conv_1.weight.data = model.features[0][0].weight.data.mean(dim=1, keepdim=True).clone().detach()\n",
    "\n",
    "    model.features[0][0] = new_conv_1\n",
    "\n",
    "    return model"
   ]
  },
  {
   "cell_type": "code",
   "execution_count": 41,
   "metadata": {},
   "outputs": [
    {
     "data": {
      "text/plain": [
       "=========================================================================================================\n",
       "Layer (type:depth-idx)                                  Output Shape              Param #\n",
       "=========================================================================================================\n",
       "EfficientNet                                            [512, 10]                 --\n",
       "├─Sequential: 1-1                                       [512, 1280, 1, 1]         --\n",
       "│    └─Conv2dNormActivation: 2-1                        [512, 32, 14, 14]         --\n",
       "│    │    └─Conv2d: 3-1                                 [512, 32, 14, 14]         288\n",
       "│    │    └─BatchNorm2d: 3-2                            [512, 32, 14, 14]         64\n",
       "│    │    └─SiLU: 3-3                                   [512, 32, 14, 14]         --\n",
       "│    └─Sequential: 2-2                                  [512, 16, 14, 14]         --\n",
       "│    │    └─MBConv: 3-4                                 [512, 16, 14, 14]         1,448\n",
       "│    └─Sequential: 2-3                                  [512, 24, 7, 7]           --\n",
       "│    │    └─MBConv: 3-5                                 [512, 24, 7, 7]           6,004\n",
       "│    │    └─MBConv: 3-6                                 [512, 24, 7, 7]           10,710\n",
       "│    └─Sequential: 2-4                                  [512, 40, 4, 4]           --\n",
       "│    │    └─MBConv: 3-7                                 [512, 40, 4, 4]           15,350\n",
       "│    │    └─MBConv: 3-8                                 [512, 40, 4, 4]           31,290\n",
       "│    └─Sequential: 2-5                                  [512, 80, 2, 2]           --\n",
       "│    │    └─MBConv: 3-9                                 [512, 80, 2, 2]           37,130\n",
       "│    │    └─MBConv: 3-10                                [512, 80, 2, 2]           102,900\n",
       "│    │    └─MBConv: 3-11                                [512, 80, 2, 2]           102,900\n",
       "│    └─Sequential: 2-6                                  [512, 112, 2, 2]          --\n",
       "│    │    └─MBConv: 3-12                                [512, 112, 2, 2]          126,004\n",
       "│    │    └─MBConv: 3-13                                [512, 112, 2, 2]          208,572\n",
       "│    │    └─MBConv: 3-14                                [512, 112, 2, 2]          208,572\n",
       "│    └─Sequential: 2-7                                  [512, 192, 1, 1]          --\n",
       "│    │    └─MBConv: 3-15                                [512, 192, 1, 1]          262,492\n",
       "│    │    └─MBConv: 3-16                                [512, 192, 1, 1]          587,952\n",
       "│    │    └─MBConv: 3-17                                [512, 192, 1, 1]          587,952\n",
       "│    │    └─MBConv: 3-18                                [512, 192, 1, 1]          587,952\n",
       "│    └─Sequential: 2-8                                  [512, 320, 1, 1]          --\n",
       "│    │    └─MBConv: 3-19                                [512, 320, 1, 1]          717,232\n",
       "│    └─Conv2dNormActivation: 2-9                        [512, 1280, 1, 1]         --\n",
       "│    │    └─Conv2d: 3-20                                [512, 1280, 1, 1]         409,600\n",
       "│    │    └─BatchNorm2d: 3-21                           [512, 1280, 1, 1]         2,560\n",
       "│    │    └─SiLU: 3-22                                  [512, 1280, 1, 1]         --\n",
       "├─AdaptiveAvgPool2d: 1-2                                [512, 1280, 1, 1]         --\n",
       "├─PredictionHead: 1-3                                   [512, 10]                 --\n",
       "│    └─Sequential: 2-10                                 [512, 10]                 --\n",
       "│    │    └─Linear: 3-23                                [512, 512]                655,872\n",
       "│    │    └─ReLU: 3-24                                  [512, 512]                --\n",
       "│    │    └─Linear: 3-25                                [512, 256]                131,328\n",
       "│    │    └─ReLU: 3-26                                  [512, 256]                --\n",
       "│    │    └─Linear: 3-27                                [512, 64]                 16,448\n",
       "│    │    └─ReLU: 3-28                                  [512, 64]                 --\n",
       "│    │    └─Linear: 3-29                                [512, 10]                 650\n",
       "=========================================================================================================\n",
       "Total params: 4,811,270\n",
       "Trainable params: 4,811,270\n",
       "Non-trainable params: 0\n",
       "Total mult-adds (G): 4.50\n",
       "=========================================================================================================\n",
       "Input size (MB): 1.61\n",
       "Forward/backward pass size (MB): 1010.85\n",
       "Params size (MB): 19.25\n",
       "Estimated Total Size (MB): 1031.70\n",
       "========================================================================================================="
      ]
     },
     "execution_count": 41,
     "metadata": {},
     "output_type": "execute_result"
    }
   ],
   "source": [
    "model = new_custom_effb0([512, 256, 64, 10])\n",
    "summary(model, input_size=(BATCH_SIZE, 1, 28, 28), device=device.type)"
   ]
  },
  {
   "cell_type": "code",
   "execution_count": 42,
   "metadata": {},
   "outputs": [],
   "source": [
    "LR = 5e-5\n",
    "NUM_EPOCHES = 25\n",
    "head_features = [512, 256, 64, 10]\n",
    "criterion = nn.CrossEntropyLoss()\n",
    "optimizer = torch.optim.Adam(model.parameters(), lr=LR)\n",
    "scheduler = torch.optim.lr_scheduler.CosineAnnealingLR(optimizer, T_max=NUM_EPOCHES)"
   ]
  },
  {
   "cell_type": "code",
   "execution_count": null,
   "metadata": {},
   "outputs": [
    {
     "name": "stdout",
     "output_type": "stream",
     "text": [
      "--------------------------------------------------------------------------------\n",
      "Learning Rate: 0.000050\n"
     ]
    },
    {
     "name": "stderr",
     "output_type": "stream",
     "text": [
      "Epoch 1/25: 100%|██████████| 118/118 [00:03<00:00, 32.28batch/s]\n",
      "Validation: 100%|██████████| 20/20 [00:00<00:00, 34.85batch/s]\n"
     ]
    },
    {
     "name": "stdout",
     "output_type": "stream",
     "text": [
      "Train Loss: 1.1039, Validation Loss: 1.0905\n",
      "--------------------------------------------------------------------------------\n",
      "\n",
      "--------------------------------------------------------------------------------\n",
      "Learning Rate: 0.000050\n"
     ]
    },
    {
     "name": "stderr",
     "output_type": "stream",
     "text": [
      "Epoch 2/25: 100%|██████████| 118/118 [00:03<00:00, 33.55batch/s]\n",
      "Validation: 100%|██████████| 20/20 [00:00<00:00, 36.03batch/s]\n"
     ]
    },
    {
     "name": "stdout",
     "output_type": "stream",
     "text": [
      "Train Loss: 0.5522, Validation Loss: 0.3782\n",
      "--------------------------------------------------------------------------------\n",
      "\n",
      "--------------------------------------------------------------------------------\n",
      "Learning Rate: 0.000049\n"
     ]
    },
    {
     "name": "stderr",
     "output_type": "stream",
     "text": [
      "Epoch 3/25: 100%|██████████| 118/118 [00:03<00:00, 33.55batch/s]\n",
      "Validation: 100%|██████████| 20/20 [00:00<00:00, 36.16batch/s]\n"
     ]
    },
    {
     "name": "stdout",
     "output_type": "stream",
     "text": [
      "Train Loss: 0.3934, Validation Loss: 0.1610\n",
      "--------------------------------------------------------------------------------\n",
      "\n",
      "--------------------------------------------------------------------------------\n",
      "Learning Rate: 0.000048\n"
     ]
    },
    {
     "name": "stderr",
     "output_type": "stream",
     "text": [
      "Epoch 4/25: 100%|██████████| 118/118 [00:03<00:00, 34.01batch/s]\n",
      "Validation: 100%|██████████| 20/20 [00:00<00:00, 35.54batch/s]\n"
     ]
    },
    {
     "name": "stdout",
     "output_type": "stream",
     "text": [
      "Train Loss: 0.1404, Validation Loss: 0.1242\n",
      "--------------------------------------------------------------------------------\n",
      "\n",
      "--------------------------------------------------------------------------------\n",
      "Learning Rate: 0.000047\n"
     ]
    },
    {
     "name": "stderr",
     "output_type": "stream",
     "text": [
      "Epoch 5/25: 100%|██████████| 118/118 [00:03<00:00, 33.92batch/s]\n",
      "Validation: 100%|██████████| 20/20 [00:00<00:00, 35.72batch/s]\n"
     ]
    },
    {
     "name": "stdout",
     "output_type": "stream",
     "text": [
      "Train Loss: 0.0800, Validation Loss: 0.1049\n",
      "--------------------------------------------------------------------------------\n",
      "\n",
      "--------------------------------------------------------------------------------\n",
      "Learning Rate: 0.000045\n"
     ]
    },
    {
     "name": "stderr",
     "output_type": "stream",
     "text": [
      "Epoch 6/25: 100%|██████████| 118/118 [00:03<00:00, 32.29batch/s]\n",
      "Validation: 100%|██████████| 20/20 [00:00<00:00, 35.37batch/s]\n"
     ]
    },
    {
     "name": "stdout",
     "output_type": "stream",
     "text": [
      "Train Loss: 0.1661, Validation Loss: 0.0944\n",
      "--------------------------------------------------------------------------------\n",
      "\n",
      "--------------------------------------------------------------------------------\n",
      "Learning Rate: 0.000043\n"
     ]
    },
    {
     "name": "stderr",
     "output_type": "stream",
     "text": [
      "Epoch 7/25: 100%|██████████| 118/118 [00:03<00:00, 33.67batch/s]\n",
      "Validation: 100%|██████████| 20/20 [00:00<00:00, 36.00batch/s]\n"
     ]
    },
    {
     "name": "stdout",
     "output_type": "stream",
     "text": [
      "Train Loss: 0.0997, Validation Loss: 0.0873\n",
      "--------------------------------------------------------------------------------\n",
      "\n",
      "--------------------------------------------------------------------------------\n",
      "Learning Rate: 0.000041\n"
     ]
    },
    {
     "name": "stderr",
     "output_type": "stream",
     "text": [
      "Epoch 8/25: 100%|██████████| 118/118 [00:03<00:00, 33.64batch/s]\n",
      "Validation: 100%|██████████| 20/20 [00:00<00:00, 35.91batch/s]\n"
     ]
    },
    {
     "name": "stdout",
     "output_type": "stream",
     "text": [
      "Train Loss: 0.1869, Validation Loss: 0.0842\n",
      "--------------------------------------------------------------------------------\n",
      "\n",
      "--------------------------------------------------------------------------------\n",
      "Learning Rate: 0.000038\n"
     ]
    },
    {
     "name": "stderr",
     "output_type": "stream",
     "text": [
      "Epoch 9/25: 100%|██████████| 118/118 [00:03<00:00, 33.40batch/s]\n",
      "Validation: 100%|██████████| 20/20 [00:00<00:00, 35.54batch/s]\n"
     ]
    },
    {
     "name": "stdout",
     "output_type": "stream",
     "text": [
      "Train Loss: 0.1076, Validation Loss: 0.0783\n",
      "--------------------------------------------------------------------------------\n",
      "\n",
      "--------------------------------------------------------------------------------\n",
      "Learning Rate: 0.000036\n"
     ]
    },
    {
     "name": "stderr",
     "output_type": "stream",
     "text": [
      "Epoch 10/25: 100%|██████████| 118/118 [00:03<00:00, 33.85batch/s]\n",
      "Validation: 100%|██████████| 20/20 [00:00<00:00, 36.49batch/s]\n"
     ]
    },
    {
     "name": "stdout",
     "output_type": "stream",
     "text": [
      "Train Loss: 0.1208, Validation Loss: 0.0825\n",
      "--------------------------------------------------------------------------------\n",
      "\n",
      "--------------------------------------------------------------------------------\n",
      "Learning Rate: 0.000033\n"
     ]
    },
    {
     "name": "stderr",
     "output_type": "stream",
     "text": [
      "Epoch 11/25: 100%|██████████| 118/118 [00:03<00:00, 33.44batch/s]\n",
      "Validation: 100%|██████████| 20/20 [00:00<00:00, 35.21batch/s]\n"
     ]
    },
    {
     "name": "stdout",
     "output_type": "stream",
     "text": [
      "Train Loss: 0.0886, Validation Loss: 0.0790\n",
      "--------------------------------------------------------------------------------\n",
      "\n",
      "--------------------------------------------------------------------------------\n",
      "Learning Rate: 0.000030\n"
     ]
    },
    {
     "name": "stderr",
     "output_type": "stream",
     "text": [
      "Epoch 12/25: 100%|██████████| 118/118 [00:03<00:00, 33.78batch/s]\n",
      "Validation: 100%|██████████| 20/20 [00:00<00:00, 35.86batch/s]\n"
     ]
    },
    {
     "name": "stdout",
     "output_type": "stream",
     "text": [
      "Train Loss: 0.0448, Validation Loss: 0.0813\n",
      "--------------------------------------------------------------------------------\n",
      "\n",
      "--------------------------------------------------------------------------------\n",
      "Learning Rate: 0.000027\n"
     ]
    },
    {
     "name": "stderr",
     "output_type": "stream",
     "text": [
      "Epoch 13/25: 100%|██████████| 118/118 [00:03<00:00, 33.86batch/s]\n",
      "Validation: 100%|██████████| 20/20 [00:00<00:00, 36.06batch/s]\n"
     ]
    },
    {
     "name": "stdout",
     "output_type": "stream",
     "text": [
      "Train Loss: 0.0751, Validation Loss: 0.0757\n",
      "--------------------------------------------------------------------------------\n",
      "\n",
      "--------------------------------------------------------------------------------\n",
      "Learning Rate: 0.000023\n"
     ]
    },
    {
     "name": "stderr",
     "output_type": "stream",
     "text": [
      "Epoch 14/25: 100%|██████████| 118/118 [00:03<00:00, 33.02batch/s]\n",
      "Validation: 100%|██████████| 20/20 [00:00<00:00, 35.95batch/s]\n"
     ]
    },
    {
     "name": "stdout",
     "output_type": "stream",
     "text": [
      "Train Loss: 0.1951, Validation Loss: 0.0756\n",
      "--------------------------------------------------------------------------------\n",
      "\n",
      "--------------------------------------------------------------------------------\n",
      "Learning Rate: 0.000020\n"
     ]
    },
    {
     "name": "stderr",
     "output_type": "stream",
     "text": [
      "Epoch 15/25: 100%|██████████| 118/118 [00:03<00:00, 33.89batch/s]\n",
      "Validation: 100%|██████████| 20/20 [00:00<00:00, 36.06batch/s]\n"
     ]
    },
    {
     "name": "stdout",
     "output_type": "stream",
     "text": [
      "Train Loss: 0.0167, Validation Loss: 0.0725\n",
      "--------------------------------------------------------------------------------\n",
      "\n",
      "--------------------------------------------------------------------------------\n",
      "Learning Rate: 0.000017\n"
     ]
    },
    {
     "name": "stderr",
     "output_type": "stream",
     "text": [
      "Epoch 16/25: 100%|██████████| 118/118 [00:03<00:00, 33.64batch/s]\n",
      "Validation: 100%|██████████| 20/20 [00:00<00:00, 35.42batch/s]\n"
     ]
    },
    {
     "name": "stdout",
     "output_type": "stream",
     "text": [
      "Train Loss: 0.0222, Validation Loss: 0.0742\n",
      "--------------------------------------------------------------------------------\n",
      "\n",
      "--------------------------------------------------------------------------------\n",
      "Learning Rate: 0.000014\n"
     ]
    },
    {
     "name": "stderr",
     "output_type": "stream",
     "text": [
      "Epoch 17/25: 100%|██████████| 118/118 [00:03<00:00, 33.08batch/s]\n",
      "Validation: 100%|██████████| 20/20 [00:00<00:00, 35.84batch/s]\n"
     ]
    },
    {
     "name": "stdout",
     "output_type": "stream",
     "text": [
      "Train Loss: 0.0151, Validation Loss: 0.0747\n",
      "--------------------------------------------------------------------------------\n",
      "\n",
      "--------------------------------------------------------------------------------\n",
      "Learning Rate: 0.000012\n"
     ]
    },
    {
     "name": "stderr",
     "output_type": "stream",
     "text": [
      "Epoch 18/25: 100%|██████████| 118/118 [00:03<00:00, 32.72batch/s]\n",
      "Validation: 100%|██████████| 20/20 [00:00<00:00, 35.78batch/s]\n"
     ]
    },
    {
     "name": "stdout",
     "output_type": "stream",
     "text": [
      "Train Loss: 0.0971, Validation Loss: 0.0748\n",
      "--------------------------------------------------------------------------------\n",
      "\n",
      "--------------------------------------------------------------------------------\n",
      "Learning Rate: 0.000009\n"
     ]
    },
    {
     "name": "stderr",
     "output_type": "stream",
     "text": [
      "Epoch 19/25: 100%|██████████| 118/118 [00:03<00:00, 33.13batch/s]\n",
      "Validation: 100%|██████████| 20/20 [00:00<00:00, 35.61batch/s]\n"
     ]
    },
    {
     "name": "stdout",
     "output_type": "stream",
     "text": [
      "Train Loss: 0.0855, Validation Loss: 0.0736\n",
      "--------------------------------------------------------------------------------\n",
      "\n",
      "--------------------------------------------------------------------------------\n",
      "Learning Rate: 0.000007\n"
     ]
    },
    {
     "name": "stderr",
     "output_type": "stream",
     "text": [
      "Epoch 20/25: 100%|██████████| 118/118 [00:03<00:00, 33.46batch/s]\n",
      "Validation: 100%|██████████| 20/20 [00:00<00:00, 36.14batch/s]\n"
     ]
    },
    {
     "name": "stdout",
     "output_type": "stream",
     "text": [
      "Train Loss: 0.0217, Validation Loss: 0.0753\n",
      "--------------------------------------------------------------------------------\n",
      "\n",
      "--------------------------------------------------------------------------------\n",
      "Learning Rate: 0.000005\n"
     ]
    },
    {
     "name": "stderr",
     "output_type": "stream",
     "text": [
      "Epoch 21/25: 100%|██████████| 118/118 [00:03<00:00, 33.15batch/s]\n",
      "Validation: 100%|██████████| 20/20 [00:00<00:00, 35.07batch/s]\n"
     ]
    },
    {
     "name": "stdout",
     "output_type": "stream",
     "text": [
      "Train Loss: 0.0126, Validation Loss: 0.0751\n",
      "--------------------------------------------------------------------------------\n",
      "\n",
      "--------------------------------------------------------------------------------\n",
      "Learning Rate: 0.000003\n"
     ]
    },
    {
     "name": "stderr",
     "output_type": "stream",
     "text": [
      "Epoch 22/25: 100%|██████████| 118/118 [00:03<00:00, 32.76batch/s]\n",
      "Validation: 100%|██████████| 20/20 [00:00<00:00, 35.54batch/s]\n"
     ]
    },
    {
     "name": "stdout",
     "output_type": "stream",
     "text": [
      "Train Loss: 0.1682, Validation Loss: 0.0738\n",
      "--------------------------------------------------------------------------------\n",
      "\n",
      "--------------------------------------------------------------------------------\n",
      "Learning Rate: 0.000002\n"
     ]
    },
    {
     "name": "stderr",
     "output_type": "stream",
     "text": [
      "Epoch 23/25: 100%|██████████| 118/118 [00:03<00:00, 33.70batch/s]\n",
      "Validation: 100%|██████████| 20/20 [00:00<00:00, 35.69batch/s]\n"
     ]
    },
    {
     "name": "stdout",
     "output_type": "stream",
     "text": [
      "Train Loss: 0.1019, Validation Loss: 0.0736\n",
      "--------------------------------------------------------------------------------\n",
      "\n",
      "--------------------------------------------------------------------------------\n",
      "Learning Rate: 0.000001\n"
     ]
    },
    {
     "name": "stderr",
     "output_type": "stream",
     "text": [
      "Epoch 24/25: 100%|██████████| 118/118 [00:03<00:00, 33.09batch/s]\n",
      "Validation: 100%|██████████| 20/20 [00:00<00:00, 36.40batch/s]\n"
     ]
    },
    {
     "name": "stdout",
     "output_type": "stream",
     "text": [
      "Train Loss: 0.0403, Validation Loss: 0.0749\n",
      "--------------------------------------------------------------------------------\n",
      "\n",
      "--------------------------------------------------------------------------------\n",
      "Learning Rate: 0.000000\n"
     ]
    },
    {
     "name": "stderr",
     "output_type": "stream",
     "text": [
      "Epoch 25/25: 100%|██████████| 118/118 [00:03<00:00, 33.54batch/s]\n",
      "Validation: 100%|██████████| 20/20 [00:00<00:00, 35.43batch/s]"
     ]
    },
    {
     "name": "stdout",
     "output_type": "stream",
     "text": [
      "Train Loss: 0.0271, Validation Loss: 0.0756\n",
      "--------------------------------------------------------------------------------\n",
      "\n"
     ]
    },
    {
     "name": "stderr",
     "output_type": "stream",
     "text": [
      "\n"
     ]
    }
   ],
   "source": [
    "avg_train_loss, avg_val_loss = [], []\n",
    "for i in range(NUM_EPOCHES):\n",
    "    model.train()\n",
    "    print(\"-\"*80)\n",
    "    print(f\"Learning Rate: {scheduler.get_last_lr()[0]:.8f}\")\n",
    "    for x, y in tqdm(trainloader, desc=f'Epoch {i+1}/{NUM_EPOCHES}', unit='batch'):\n",
    "        x, y = x.to(device), y.to(device)\n",
    "\n",
    "        optimizer.zero_grad()\n",
    "        output = model(x)\n",
    "        loss = criterion(output, y)\n",
    "        loss.backward()\n",
    "        optimizer.step()\n",
    "    avg_train_loss.append(loss.item())\n",
    "\n",
    "    with torch.no_grad():\n",
    "        model.eval()\n",
    "        val_loss = 0\n",
    "        for x, y in tqdm(testloader, desc='Validation', unit='batch'):\n",
    "            x, y = x.to(device), y.to(device)\n",
    "\n",
    "            output = model(x)\n",
    "            loss = criterion(output, y)\n",
    "            val_loss += loss.item()\n",
    "        avg_val_loss.append(val_loss / len(testloader))\n",
    "    print(f'Train Loss: {avg_train_loss[-1]:.4f}, Validation Loss: {avg_val_loss[-1]:.4f}')\n",
    "    print(\"-\"*80)\n",
    "    print()\n",
    "    scheduler.step()"
   ]
  },
  {
   "cell_type": "code",
   "execution_count": 45,
   "metadata": {},
   "outputs": [],
   "source": [
    "torch.save(model.state_dict(), './model/custom_effb0_mnist.pth')"
   ]
  },
  {
   "cell_type": "code",
   "execution_count": null,
   "metadata": {},
   "outputs": [
    {
     "data": {
      "text/plain": [
       "<All keys matched successfully>"
      ]
     },
     "execution_count": 52,
     "metadata": {},
     "output_type": "execute_result"
    }
   ],
   "source": [
    "best_model = new_custom_effb0(head_features)\n",
    "best_model.load_state_dict(torch.load('./model/custom_effb0_mnist.pth'))"
   ]
  },
  {
   "cell_type": "code",
   "execution_count": 49,
   "metadata": {},
   "outputs": [
    {
     "name": "stdout",
     "output_type": "stream",
     "text": [
      "torch.Size([1, 28, 28]) 2\n"
     ]
    }
   ],
   "source": [
    "a = testloader.dataset[1]\n",
    "print(a[0].shape, a[1]) "
   ]
  },
  {
   "cell_type": "code",
   "execution_count": 54,
   "metadata": {},
   "outputs": [],
   "source": [
    "def plot_confusion_matrix(y_true, y_pred, classes):\n",
    "    cm = confusion_matrix(y_true, y_pred)\n",
    "    plt.figure(figsize=(10, 10))\n",
    "    sns.heatmap(cm, annot=True, fmt='d', cmap='Blues', xticklabels=classes, yticklabels=classes)\n",
    "    plt.ylabel('True label')\n",
    "    plt.xlabel('Predicted label')\n",
    "    plt.show()\n",
    "    accuracy = np.trace(cm) / np.sum(cm)\n",
    "    print(\"Accuracy: \", accuracy)"
   ]
  },
  {
   "cell_type": "code",
   "execution_count": 55,
   "metadata": {},
   "outputs": [
    {
     "name": "stderr",
     "output_type": "stream",
     "text": [
      "Testing: 100%|██████████| 20/20 [00:00<00:00, 34.74batch/s]\n"
     ]
    },
    {
     "data": {
      "image/png": "[encoded data removed]",
      "text/plain": [
       "<Figure size 1000x1000 with 2 Axes>"
      ]
     },
     "metadata": {},
     "output_type": "display_data"
    },
    {
     "name": "stdout",
     "output_type": "stream",
     "text": [
      "Accuracy:  0.9811\n"
     ]
    }
   ],
   "source": [
    "y_true_test = []\n",
    "y_pred_test = []\n",
    "best_model.to(device)\n",
    "best_model.eval()\n",
    "with torch.no_grad():\n",
    "    for x, y in tqdm(testloader, desc='Testing', unit='batch'):\n",
    "        x, y = x.to(device), y.to(device)\n",
    "\n",
    "        output = best_model(x)\n",
    "        _, predicted = torch.max(output, 1)\n",
    "\n",
    "        y_true_test.extend(y.cpu().numpy())\n",
    "        y_pred_test.extend(predicted.cpu().numpy())\n",
    "plot_confusion_matrix(y_true_test, y_pred_test, classes=[str(i) for i in range(10)])"
   ]
  }
 ],
 "metadata": {
  "kernelspec": {
   "display_name": "ML10",
   "language": "python",
   "name": "python3"
  },
  "language_info": {
   "codemirror_mode": {
    "name": "ipython",
    "version": 3
   },
   "file_extension": ".py",
   "mimetype": "text/x-python",
   "name": "python",
   "nbconvert_exporter": "python",
   "pygments_lexer": "ipython3",
   "version": "3.10.16"
  }
 },
 "nbformat": 4,
 "nbformat_minor": 2
}
