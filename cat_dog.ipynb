{
 "cells": [
  {
   "cell_type": "code",
   "execution_count": 12,
   "metadata": {},
   "outputs": [],
   "source": [
    "import os\n",
    "import numpy as np\n",
    "import matplotlib.pyplot as plt\n",
    "import pandas as pd\n",
    "import cv2"
   ]
  },
  {
   "cell_type": "code",
   "execution_count": null,
   "metadata": {},
   "outputs": [
    {
     "name": "stdout",
     "output_type": "stream",
     "text": [
      "['dog.11289.jpg', 'cat.10836.jpg', 'cat.7970.jpg', 'cat.2212.jpg', 'dog.2653.jpg']\n",
      "[1, 0, 0, 0, 1]\n"
     ]
    }
   ],
   "source": [
    "dataset_path = \"./data/cat_dog/\"\n",
    "cat_dog_csv = pd.read_csv(os.path.join(dataset_path, \"cat_dog.csv\"))\n",
    "# print(cat_dog_csv.head())\n",
    "img_name, labels = [], []\n",
    "for i in range(len(cat_dog_csv)):\n",
    "    img_name.append(cat_dog_csv.iloc[i, 0])\n",
    "    labels.append(cat_dog_csv.iloc[i, 1])"
   ]
  },
  {
   "cell_type": "code",
   "execution_count": 17,
   "metadata": {},
   "outputs": [],
   "source": [
    "img_all = []\n",
    "shapes = []\n",
    "for i in range(len(img_name)):\n",
    "    img_path = os.path.join(dataset_path, \"cat_dog\", img_name[i])\n",
    "    img = cv2.imread(img_path)\n",
    "    img = cv2.resize(img, (224, 224))\n",
    "    img_all.append(img)\n",
    "    shapes.append(img.shape)"
   ]
  },
  {
   "cell_type": "code",
   "execution_count": null,
   "metadata": {},
   "outputs": [
    {
     "name": "stdout",
     "output_type": "stream",
     "text": [
      "[[224 224   3]]\n",
      "[1.]\n"
     ]
    }
   ],
   "source": []
  }
 ],
 "metadata": {
  "kernelspec": {
   "display_name": "ML10",
   "language": "python",
   "name": "python3"
  },
  "language_info": {
   "codemirror_mode": {
    "name": "ipython",
    "version": 3
   },
   "file_extension": ".py",
   "mimetype": "text/x-python",
   "name": "python",
   "nbconvert_exporter": "python",
   "pygments_lexer": "ipython3",
   "version": "3.10.16"
  }
 },
 "nbformat": 4,
 "nbformat_minor": 2
}
