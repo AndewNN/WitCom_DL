{
 "cells": [
  {
   "cell_type": "code",
   "execution_count": 65,
   "metadata": {},
   "outputs": [],
   "source": [
    "import os\n",
    "import numpy as np\n",
    "import matplotlib.pyplot as plt\n",
    "import pandas as pd\n",
    "import cv2\n",
    "\n",
    "import torch\n",
    "import torch.nn as nn\n",
    "import torch.nn.functional as F\n",
    "from torch.utils.data import Dataset, DataLoader\n",
    "\n",
    "from torchvision.models import efficientnet_b0, efficientnet_v2_s\n",
    "from torchvision.models import EfficientNet_B0_Weights, EfficientNet_V2_S_Weights\n",
    "import torchvision.transforms as transforms\n",
    "from torchinfo import summary\n",
    "\n",
    "from sklearn.model_selection import StratifiedShuffleSplit\n",
    "\n",
    "from tqdm import tqdm\n",
    "import seaborn as sns\n",
    "from sklearn.metrics import confusion_matrix"
   ]
  },
  {
   "cell_type": "code",
   "execution_count": 29,
   "metadata": {},
   "outputs": [
    {
     "name": "stdout",
     "output_type": "stream",
     "text": [
      "Using device: cuda\n"
     ]
    }
   ],
   "source": [
    "device = torch.device(\"cuda\" if torch.cuda.is_available() else \"cpu\")\n",
    "print(f\"Using device: {device}\")\n",
    "assert device.type == \"cuda\", \"Ahh, stop there, you need a GPU for training this model.\""
   ]
  },
  {
   "cell_type": "code",
   "execution_count": null,
   "metadata": {},
   "outputs": [],
   "source": [
    "dataset_path = \"./data/cat_dog/\"\n",
    "cat_dog_csv = pd.read_csv(os.path.join(dataset_path, \"cat_dog.csv\"))\n",
    "# print(cat_dog_csv.head())\n",
    "img_name, labels = [], []\n",
    "for i in range(len(cat_dog_csv)):\n",
    "    img_name.append(cat_dog_csv.iloc[i, 0])\n",
    "    labels.append(cat_dog_csv.iloc[i, 1])\n",
    "\n",
    "img_all = []\n",
    "for i in range(len(img_name)):\n",
    "    img_path = os.path.join(dataset_path, \"cat_dog\", img_name[i])\n",
    "    img = cv2.imread(img_path)\n",
    "    img = cv2.resize(img, (224, 224))\n",
    "    img_all.append(img)\n",
    "\n",
    "img_all = np.array(img_all) / 255.0\n",
    "labels = np.array(labels)"
   ]
  },
  {
   "cell_type": "code",
   "execution_count": 19,
   "metadata": {},
   "outputs": [],
   "source": [
    "class CatDogDataset(Dataset):\n",
    "    def __init__(self, images, labels, idx, transform=None):\n",
    "        self.images = images\n",
    "        self.labels = labels\n",
    "        self.idx = idx\n",
    "        self.transform = transform\n",
    "\n",
    "    def __len__(self):\n",
    "        return len(self.idx)\n",
    "    \n",
    "    def __getitem__(self, idx):\n",
    "        img = self.images[self.idx[idx]]\n",
    "        label = self.labels[self.idx[idx]]\n",
    "        \n",
    "        if self.transform:\n",
    "            img = self.transform(img)\n",
    "        \n",
    "        return img, label\n"
   ]
  },
  {
   "cell_type": "code",
   "execution_count": 8,
   "metadata": {},
   "outputs": [],
   "source": [
    "train_idx, val_test_idx = next(\n",
    "    StratifiedShuffleSplit(n_splits=1, test_size=0.2, random_state=42).split(img_all, labels)\n",
    ")\n",
    "val_test_Y = labels[val_test_idx]\n",
    "val_idx_pre, test_idx_pre = next(\n",
    "    StratifiedShuffleSplit(n_splits=1, test_size=0.5, random_state=42).split(val_test_idx, val_test_Y)\n",
    ")\n",
    "val_idx, test_idx = val_test_idx[val_idx_pre], val_test_idx[test_idx_pre]"
   ]
  },
  {
   "cell_type": "code",
   "execution_count": 13,
   "metadata": {},
   "outputs": [
    {
     "name": "stdout",
     "output_type": "stream",
     "text": [
      "25000 25000\n",
      "10000 1250 1250\n"
     ]
    }
   ],
   "source": [
    "idx_all = np.concatenate((train_idx, val_idx, test_idx))\n",
    "print(len(np.unique(idx_all)), len(img_all))\n",
    "print(labels[train_idx].sum(), labels[val_idx].sum(), labels[test_idx].sum())"
   ]
  },
  {
   "cell_type": "code",
   "execution_count": 21,
   "metadata": {},
   "outputs": [],
   "source": [
    "# Train Transform: random horizontal flip, random rotation\n",
    "train_transform = transforms.Compose([\n",
    "    transforms.ToPILImage(),\n",
    "    transforms.RandomHorizontalFlip(),\n",
    "    transforms.RandomRotation(10),\n",
    "    transforms.ToTensor(),\n",
    "    transforms.Normalize(mean=[0.485, 0.456, 0.406], std=[0.229, 0.224, 0.225])\n",
    "])\n",
    "\n",
    "# Validation/Test Transform: resize and normalize\n",
    "val_test_transform = transforms.Compose([\n",
    "    transforms.ToPILImage(),\n",
    "    transforms.Resize((224, 224)),\n",
    "    transforms.ToTensor(),\n",
    "    transforms.Normalize(mean=[0.485, 0.456, 0.406], std=[0.229, 0.224, 0.225])\n",
    "])\n"
   ]
  },
  {
   "cell_type": "code",
   "execution_count": 46,
   "metadata": {},
   "outputs": [],
   "source": [
    "train_dataset = CatDogDataset(img_all, labels, train_idx, transform=train_transform)\n",
    "val_dataset = CatDogDataset(img_all, labels, val_idx, transform=val_test_transform)\n",
    "test_dataset = CatDogDataset(img_all, labels, test_idx, transform=val_test_transform)\n",
    "\n",
    "train_loader = DataLoader(train_dataset, batch_size=80, shuffle=True, num_workers=16)\n",
    "val_loader = DataLoader(val_dataset, batch_size=192, shuffle=False, num_workers=16)\n",
    "test_loader = DataLoader(test_dataset, batch_size=192, shuffle=False, num_workers=16)"
   ]
  },
  {
   "cell_type": "code",
   "execution_count": 47,
   "metadata": {},
   "outputs": [],
   "source": [
    "class PredictionHead(nn.Module):\n",
    "    def __init__(self, feature_dims):\n",
    "        super(PredictionHead, self).__init__()\n",
    "        self.activate = nn.ReLU()\n",
    "        self.dropout = nn.Dropout(0.2)\n",
    "\n",
    "        self.fc = nn.Sequential()\n",
    "        for i in range(len(feature_dims)-1):\n",
    "            # self.fc.add_module(f'drop_{i}', self.dropout)\n",
    "            self.fc.add_module(f'fc_{i}', nn.Linear(feature_dims[i], feature_dims[i+1]))\n",
    "            if i != len(feature_dims)-2:\n",
    "                self.fc.add_module(f'a_{i}', self.activate)\n",
    "\n",
    "    def forward(self, x):\n",
    "        x = self.fc(x)\n",
    "\n",
    "        return x"
   ]
  },
  {
   "cell_type": "code",
   "execution_count": 48,
   "metadata": {},
   "outputs": [],
   "source": [
    "def new_custom_effb0(hidden_features):\n",
    "    model = efficientnet_b0(weights=EfficientNet_B0_Weights.IMAGENET1K_V1)\n",
    "    feature = [1280]\n",
    "    feature.extend(hidden_features)\n",
    "    model.classifier = PredictionHead(feature).cuda()\n",
    "    \n",
    "    model = model.to(device)\n",
    "    return model"
   ]
  },
  {
   "cell_type": "code",
   "execution_count": 49,
   "metadata": {},
   "outputs": [],
   "source": [
    "# model = new_custom_effb0([512, 128, 32, 1])\n",
    "# summary(model, input_size=(32, 3, 224, 224), device=device)"
   ]
  },
  {
   "cell_type": "code",
   "execution_count": 60,
   "metadata": {},
   "outputs": [],
   "source": [
    "LR = 3e-4\n",
    "NUM_EPOCHES = 10\n",
    "head_features = [512, 128, 32, 1]\n",
    "model = new_custom_effb0(head_features)\n",
    "criterion = nn.BCEWithLogitsLoss()\n",
    "optimizer = torch.optim.Adam(model.parameters(), lr=LR)\n",
    "scheduler = torch.optim.lr_scheduler.ExponentialLR(optimizer, gamma=0.75)"
   ]
  },
  {
   "cell_type": "code",
   "execution_count": 61,
   "metadata": {},
   "outputs": [
    {
     "name": "stdout",
     "output_type": "stream",
     "text": [
      "--------------------------------------------------------------------------------\n",
      "Learning Rate: 0.00030000\n"
     ]
    },
    {
     "name": "stderr",
     "output_type": "stream",
     "text": [
      "Epoch 1/10: 100%|██████████| 250/250 [00:27<00:00,  8.94batch/s, loss=0.0405] \n",
      "Validation: 100%|██████████| 14/14 [00:01<00:00,  7.03batch/s]\n"
     ]
    },
    {
     "name": "stdout",
     "output_type": "stream",
     "text": [
      "Train Loss: 0.0964, Validation Loss: 0.0291\n",
      "--------------------------------------------------------------------------------\n",
      "\n",
      "--------------------------------------------------------------------------------\n",
      "Learning Rate: 0.00022500\n"
     ]
    },
    {
     "name": "stderr",
     "output_type": "stream",
     "text": [
      "Epoch 2/10: 100%|██████████| 250/250 [00:27<00:00,  8.96batch/s, loss=0.00471] \n",
      "Validation: 100%|██████████| 14/14 [00:01<00:00,  7.02batch/s]\n"
     ]
    },
    {
     "name": "stdout",
     "output_type": "stream",
     "text": [
      "Train Loss: 0.0283, Validation Loss: 0.0269\n",
      "--------------------------------------------------------------------------------\n",
      "\n",
      "--------------------------------------------------------------------------------\n",
      "Learning Rate: 0.00016875\n"
     ]
    },
    {
     "name": "stderr",
     "output_type": "stream",
     "text": [
      "Epoch 3/10: 100%|██████████| 250/250 [00:27<00:00,  8.96batch/s, loss=0.00738] \n",
      "Validation: 100%|██████████| 14/14 [00:01<00:00,  7.03batch/s]\n"
     ]
    },
    {
     "name": "stdout",
     "output_type": "stream",
     "text": [
      "Train Loss: 0.0155, Validation Loss: 0.0263\n",
      "--------------------------------------------------------------------------------\n",
      "\n",
      "--------------------------------------------------------------------------------\n",
      "Learning Rate: 0.00012656\n"
     ]
    },
    {
     "name": "stderr",
     "output_type": "stream",
     "text": [
      "Epoch 4/10: 100%|██████████| 250/250 [00:27<00:00,  8.97batch/s, loss=0.00118] \n",
      "Validation: 100%|██████████| 14/14 [00:01<00:00,  7.17batch/s]\n"
     ]
    },
    {
     "name": "stdout",
     "output_type": "stream",
     "text": [
      "Train Loss: 0.0093, Validation Loss: 0.0266\n",
      "--------------------------------------------------------------------------------\n",
      "\n",
      "--------------------------------------------------------------------------------\n",
      "Learning Rate: 0.00009492\n"
     ]
    },
    {
     "name": "stderr",
     "output_type": "stream",
     "text": [
      "Epoch 5/10: 100%|██████████| 250/250 [00:27<00:00,  8.95batch/s, loss=0.0159]  \n",
      "Validation: 100%|██████████| 14/14 [00:01<00:00,  7.34batch/s]\n"
     ]
    },
    {
     "name": "stdout",
     "output_type": "stream",
     "text": [
      "Train Loss: 0.0073, Validation Loss: 0.0268\n",
      "--------------------------------------------------------------------------------\n",
      "\n",
      "--------------------------------------------------------------------------------\n",
      "Learning Rate: 0.00007119\n"
     ]
    },
    {
     "name": "stderr",
     "output_type": "stream",
     "text": [
      "Epoch 6/10: 100%|██████████| 250/250 [00:27<00:00,  9.00batch/s, loss=0.000384]\n",
      "Validation: 100%|██████████| 14/14 [00:01<00:00,  7.28batch/s]\n"
     ]
    },
    {
     "name": "stdout",
     "output_type": "stream",
     "text": [
      "Train Loss: 0.0041, Validation Loss: 0.0307\n",
      "--------------------------------------------------------------------------------\n",
      "\n",
      "--------------------------------------------------------------------------------\n",
      "Learning Rate: 0.00005339\n"
     ]
    },
    {
     "name": "stderr",
     "output_type": "stream",
     "text": [
      "Epoch 7/10: 100%|██████████| 250/250 [00:27<00:00,  8.96batch/s, loss=0.00564] \n",
      "Validation: 100%|██████████| 14/14 [00:01<00:00,  7.36batch/s]\n"
     ]
    },
    {
     "name": "stdout",
     "output_type": "stream",
     "text": [
      "Train Loss: 0.0036, Validation Loss: 0.0342\n",
      "--------------------------------------------------------------------------------\n",
      "\n",
      "--------------------------------------------------------------------------------\n",
      "Learning Rate: 0.00004005\n"
     ]
    },
    {
     "name": "stderr",
     "output_type": "stream",
     "text": [
      "Epoch 8/10: 100%|██████████| 250/250 [00:28<00:00,  8.92batch/s, loss=0.00085] \n",
      "Validation: 100%|██████████| 14/14 [00:01<00:00,  7.24batch/s]\n"
     ]
    },
    {
     "name": "stdout",
     "output_type": "stream",
     "text": [
      "Train Loss: 0.0032, Validation Loss: 0.0316\n",
      "--------------------------------------------------------------------------------\n",
      "\n",
      "--------------------------------------------------------------------------------\n",
      "Learning Rate: 0.00003003\n"
     ]
    },
    {
     "name": "stderr",
     "output_type": "stream",
     "text": [
      "Epoch 9/10: 100%|██████████| 250/250 [00:28<00:00,  8.89batch/s, loss=2.36e-5] \n",
      "Validation: 100%|██████████| 14/14 [00:01<00:00,  7.04batch/s]\n"
     ]
    },
    {
     "name": "stdout",
     "output_type": "stream",
     "text": [
      "Train Loss: 0.0028, Validation Loss: 0.0305\n",
      "--------------------------------------------------------------------------------\n",
      "\n",
      "--------------------------------------------------------------------------------\n",
      "Learning Rate: 0.00002253\n"
     ]
    },
    {
     "name": "stderr",
     "output_type": "stream",
     "text": [
      "Epoch 10/10: 100%|██████████| 250/250 [00:28<00:00,  8.85batch/s, loss=3.14e-5] \n",
      "Validation: 100%|██████████| 14/14 [00:01<00:00,  7.01batch/s]"
     ]
    },
    {
     "name": "stdout",
     "output_type": "stream",
     "text": [
      "Train Loss: 0.0018, Validation Loss: 0.0326\n",
      "--------------------------------------------------------------------------------\n",
      "\n"
     ]
    },
    {
     "name": "stderr",
     "output_type": "stream",
     "text": [
      "\n"
     ]
    }
   ],
   "source": [
    "avg_train_loss, avg_val_loss = [], []\n",
    "for i in range(NUM_EPOCHES):\n",
    "    model.train()\n",
    "    print(\"-\"*80)\n",
    "    print(f\"Learning Rate: {scheduler.get_last_lr()[0]:.8f}\")\n",
    "    train_loss = 0.0\n",
    "    pbar = tqdm(train_loader, desc=f'Epoch {i+1}/{NUM_EPOCHES}', unit='batch')\n",
    "    for x, y in pbar:\n",
    "        x, y = x.to(device), y.to(device)\n",
    "        optimizer.zero_grad()\n",
    "        output = model(x)\n",
    "        loss = criterion(output.squeeze(), y.float())\n",
    "        loss.backward()\n",
    "        optimizer.step()\n",
    "        train_loss += loss.item()\n",
    "        pbar.set_postfix({'loss': loss.item()})\n",
    "    train_loss /= len(train_loader)\n",
    "    avg_train_loss.append(train_loss)\n",
    "\n",
    "    with torch.no_grad():\n",
    "        model.eval()\n",
    "        val_loss = 0.0\n",
    "        for x, y in tqdm(val_loader, desc='Validation', unit='batch'):\n",
    "            x, y = x.to(device), y.to(device)\n",
    "            output = model(x)\n",
    "            loss = criterion(output.squeeze(), y.float())\n",
    "            val_loss += loss.item()\n",
    "        \n",
    "        avg_val_loss.append(val_loss / len(val_loader))\n",
    "    print(f'Train Loss: {avg_train_loss[-1]:.4f}, Validation Loss: {avg_val_loss[-1]:.4f}')\n",
    "    print(\"-\"*80)\n",
    "    print()\n",
    "    scheduler.step()"
   ]
  },
  {
   "cell_type": "code",
   "execution_count": 62,
   "metadata": {},
   "outputs": [
    {
     "data": {
      "image/png": "[encoded data removed]",
      "text/plain": [
       "<Figure size 1000x500 with 1 Axes>"
      ]
     },
     "metadata": {},
     "output_type": "display_data"
    }
   ],
   "source": [
    "plt.figure(figsize=(10, 5))\n",
    "plt.plot(avg_train_loss, label='Train Loss', marker='o')\n",
    "plt.plot(avg_val_loss, label='Validation Loss', marker='o')\n",
    "plt.title('Loss Curve')\n",
    "plt.xlabel('Epochs')\n",
    "plt.ylabel('Loss')\n",
    "plt.legend()\n",
    "plt.grid()\n",
    "plt.show()"
   ]
  },
  {
   "cell_type": "code",
   "execution_count": 63,
   "metadata": {},
   "outputs": [],
   "source": [
    "torch.save(model.state_dict(), 'cat_dog_effb0.pth')"
   ]
  },
  {
   "cell_type": "code",
   "execution_count": 64,
   "metadata": {},
   "outputs": [
    {
     "data": {
      "text/plain": [
       "<All keys matched successfully>"
      ]
     },
     "execution_count": 64,
     "metadata": {},
     "output_type": "execute_result"
    }
   ],
   "source": [
    "best_model = new_custom_effb0(head_features)\n",
    "best_model.load_state_dict(torch.load('cat_dog_effb0.pth'))"
   ]
  },
  {
   "cell_type": "code",
   "execution_count": 68,
   "metadata": {},
   "outputs": [],
   "source": [
    "def plot_confusion_matrix(y_true, y_pred, classes):\n",
    "    cm = confusion_matrix(y_true, y_pred)\n",
    "    plt.figure(figsize=(5, 5))\n",
    "    sns.heatmap(cm, annot=True, fmt='d', cmap='Blues', xticklabels=classes, yticklabels=classes)\n",
    "    plt.ylabel('True label')\n",
    "    plt.xlabel('Predicted label')\n",
    "    plt.show()\n",
    "    accuracy = np.trace(cm) / np.sum(cm)\n",
    "    print(\"Accuracy: \", accuracy)"
   ]
  },
  {
   "cell_type": "code",
   "execution_count": 69,
   "metadata": {},
   "outputs": [
    {
     "name": "stderr",
     "output_type": "stream",
     "text": [
      "Testing: 100%|██████████| 14/14 [00:02<00:00,  6.61batch/s]\n"
     ]
    },
    {
     "data": {
      "image/png": "[encoded data removed]",
      "text/plain": [
       "<Figure size 500x500 with 2 Axes>"
      ]
     },
     "metadata": {},
     "output_type": "display_data"
    },
    {
     "name": "stdout",
     "output_type": "stream",
     "text": [
      "Accuracy:  0.9908\n"
     ]
    }
   ],
   "source": [
    "y_true_test = []\n",
    "y_pred_test = []\n",
    "for x, y in tqdm(test_loader, desc='Testing', unit='batch'):\n",
    "    x = x.to(device)\n",
    "    with torch.no_grad():\n",
    "        output = best_model(x)\n",
    "        output = torch.sigmoid(output).cpu().numpy()\n",
    "        y_pred_test.extend(output.squeeze())\n",
    "        y_true_test.extend(y.numpy())\n",
    "y_true_test = np.array(y_true_test)\n",
    "y_pred_test = np.array(y_pred_test)\n",
    "y_pred_test = (y_pred_test > 0.5).astype(int)\n",
    "plot_confusion_matrix(y_true_test, y_pred_test, classes=['Cat', 'Dog'])"
   ]
  }
 ],
 "metadata": {
  "kernelspec": {
   "display_name": "ML10",
   "language": "python",
   "name": "python3"
  },
  "language_info": {
   "codemirror_mode": {
    "name": "ipython",
    "version": 3
   },
   "file_extension": ".py",
   "mimetype": "text/x-python",
   "name": "python",
   "nbconvert_exporter": "python",
   "pygments_lexer": "ipython3",
   "version": "3.10.16"
  }
 },
 "nbformat": 4,
 "nbformat_minor": 2
}
