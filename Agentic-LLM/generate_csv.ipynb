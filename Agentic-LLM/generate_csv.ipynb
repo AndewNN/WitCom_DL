{
 "cells": [
  {
   "cell_type": "code",
   "execution_count": 2,
   "id": "84fc9d8e",
   "metadata": {},
   "outputs": [
    {
     "name": "stdout",
     "output_type": "stream",
     "text": [
      "CSV file 'grades/M4-1.csv' with 36 rows and unique student IDs has been generated successfully.\n",
      "CSV file 'grades/M4-2.csv' with 36 rows and unique student IDs has been generated successfully.\n",
      "CSV file 'grades/M4-3.csv' with 36 rows and unique student IDs has been generated successfully.\n",
      "CSV file 'grades/M4-4.csv' with 36 rows and unique student IDs has been generated successfully.\n",
      "CSV file 'grades/M4-5.csv' with 36 rows and unique student IDs has been generated successfully.\n",
      "Total unique student IDs generated: 180\n"
     ]
    }
   ],
   "source": [
    "import pandas as pd\n",
    "import random\n",
    "import string\n",
    "\n",
    "# List of possible grades\n",
    "VALID_GRADES = [0, 0.5, 1, 1.5, 2, 2.5, 3, 3.5, 4]\n",
    "\n",
    "# Thai names (transliterated to English)\n",
    "FIRST_NAMES = [\n",
    "    'Somchai', 'Naree', 'Thanapat', 'Supaporn', 'Chaiwat', 'Pimchanok',\n",
    "    'Kittipong', 'Waranya', 'Anuwat', 'Sasiwimon', 'Preecha', 'Nattaporn',\n",
    "    'Suthep', 'Kannika', 'Wichai', 'Patcharee'\n",
    "]\n",
    "LAST_NAMES = [\n",
    "    'Srisuwan', 'Chaiyaporn', 'Thongkham', 'Saengchan', 'Phromma',\n",
    "    'Wongyai', 'Kaeosri', 'Maneerat', 'Sukcharoen', 'Rattanaporn'\n",
    "]\n",
    "\n",
    "# Set to keep track of used student IDs\n",
    "used_ids = set()\n",
    "\n",
    "# Function to generate unique student ID starting with '4'\n",
    "def generate_student_id():\n",
    "    while True:\n",
    "        # Generate a 5-digit number and prepend '4'\n",
    "        id_suffix = ''.join(random.choices(string.digits, k=5))\n",
    "        student_id = f\"4{id_suffix}\"\n",
    "        if student_id not in used_ids:\n",
    "            used_ids.add(student_id)\n",
    "            return student_id\n",
    "\n",
    "# Function to generate random Thai name\n",
    "def generate_thai_name():\n",
    "    first = random.choice(FIRST_NAMES)\n",
    "    last = random.choice(LAST_NAMES)\n",
    "    return f\"{first} {last}\"\n",
    "\n",
    "# Generate 5 CSV files\n",
    "for file_num in range(1, 6):\n",
    "    # Generate data for one file\n",
    "    data = {\n",
    "        'student_id': [generate_student_id() for _ in range(36)],\n",
    "        'student_name': [generate_thai_name() for _ in range(36)],\n",
    "        'thai_grade': [random.choice(VALID_GRADES) for _ in range(36)],\n",
    "        'english_grade': [random.choice(VALID_GRADES) for _ in range(36)],\n",
    "        'pe_grade': [random.choice(VALID_GRADES) for _ in range(36)],\n",
    "        'math_grade': [random.choice(VALID_GRADES) for _ in range(36)],\n",
    "        'add_math_grade': [random.choice(VALID_GRADES) for _ in range(36)],\n",
    "        'physics_grade': [random.choice(VALID_GRADES) for _ in range(36)],\n",
    "        'bio_grade': [random.choice(VALID_GRADES) for _ in range(36)],\n",
    "        'chem_grade': [random.choice(VALID_GRADES) for _ in range(36)]\n",
    "    }\n",
    "\n",
    "    # Create DataFrame\n",
    "    df = pd.DataFrame(data)\n",
    "\n",
    "    # Write to CSV\n",
    "    filename = f'grades/M4-{file_num}.csv'\n",
    "    df.to_csv(filename, index=False)\n",
    "    print(f\"CSV file '{filename}' with 36 rows and unique student IDs has been generated successfully.\")\n",
    "\n",
    "# Verify total unique IDs\n",
    "print(f\"Total unique student IDs generated: {len(used_ids)}\")"
   ]
  }
 ],
 "metadata": {
  "kernelspec": {
   "display_name": "base",
   "language": "python",
   "name": "python3"
  },
  "language_info": {
   "codemirror_mode": {
    "name": "ipython",
    "version": 3
   },
   "file_extension": ".py",
   "mimetype": "text/x-python",
   "name": "python",
   "nbconvert_exporter": "python",
   "pygments_lexer": "ipython3",
   "version": "3.12.6"
  }
 },
 "nbformat": 4,
 "nbformat_minor": 5
}
