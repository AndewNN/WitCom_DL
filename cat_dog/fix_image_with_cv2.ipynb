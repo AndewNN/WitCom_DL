{
 "cells": [
  {
   "cell_type": "code",
   "execution_count": 23,
   "id": "e899719b",
   "metadata": {},
   "outputs": [],
   "source": [
    "import cv2\n",
    "import os\n",
    "from PIL import Image\n",
    "\n",
    "def fix_corrupt_jpeg(input_path):\n",
    "    try:\n",
    "        # Open image with Pillow\n",
    "        with Image.open(input_path) as img:\n",
    "            # Convert to RGB if necessary\n",
    "            if img.mode != 'RGB':\n",
    "                img = img.convert('RGB')\n",
    "            # Save it back to the same path\n",
    "            img.save(input_path, 'JPEG')\n",
    "        print(f\"Fixed: {input_path}\")\n",
    "    except Exception as e:\n",
    "        print(f\"Failed to fix {input_path}: {e}\")\n",
    "\n",
    "def process_folder(folder_path):\n",
    "    for filename in os.listdir(folder_path):\n",
    "        if filename.lower().endswith(('.jpg', '.jpeg')):\n",
    "            file_path = os.path.join(folder_path, filename)\n",
    "            # Try to read with OpenCV\n",
    "            img = cv2.imread(file_path)\n",
    "            Image.fromarray(img)\n",
    "            if img is None:\n",
    "                print(img)\n",
    "                print(\"GOGOG BUG\")\n",
    "                print(f\"Corrupt or unreadable: {file_path}\")\n",
    "                # Attempt to fix it\n",
    "                fix_corrupt_jpeg(file_path)\n",
    "\n",
    "# Example usage\n",
    "folder_path = 'train'  # Replace with your folder path\n",
    "process_folder(folder_path)"
   ]
  }
 ],
 "metadata": {
  "kernelspec": {
   "display_name": "base",
   "language": "python",
   "name": "python3"
  },
  "language_info": {
   "codemirror_mode": {
    "name": "ipython",
    "version": 3
   },
   "file_extension": ".py",
   "mimetype": "text/x-python",
   "name": "python",
   "nbconvert_exporter": "python",
   "pygments_lexer": "ipython3",
   "version": "3.12.6"
  }
 },
 "nbformat": 4,
 "nbformat_minor": 5
}
